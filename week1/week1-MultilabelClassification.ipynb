{
 "cells": [
  {
   "cell_type": "markdown",
   "metadata": {},
   "source": [
    "# Predict tags on StackOverflow with linear models"
   ]
  },
  {
   "cell_type": "markdown",
   "metadata": {},
   "source": [
    "In this assignment you will learn how to predict tags for posts from [StackOverflow](https://stackoverflow.com). To solve this task you will use multilabel classification approach.\n",
    "\n",
    "### Libraries\n",
    "\n",
    "In this task you will need the following libraries:\n",
    "- [Numpy](http://www.numpy.org) — a package for scientific computing.\n",
    "- [Pandas](https://pandas.pydata.org) — a library providing high-performance, easy-to-use data structures and data analysis tools for the Python\n",
    "- [scikit-learn](http://scikit-learn.org/stable/index.html) — a tool for data mining and data analysis.\n",
    "- [NLTK](http://www.nltk.org) — a platform to work with natural language."
   ]
  },
  {
   "cell_type": "markdown",
   "metadata": {},
   "source": [
    "### Data\n",
    "\n",
    "The following cell will download all data required for this assignment into the folder `week1/data`."
   ]
  },
  {
   "cell_type": "code",
   "execution_count": 1,
   "metadata": {},
   "outputs": [
    {
     "name": "stdout",
     "output_type": "stream",
     "text": [
      "File data/train.tsv is already downloaded.\n",
      "File data/validation.tsv is already downloaded.\n",
      "File data/test.tsv is already downloaded.\n",
      "File data/text_prepare_tests.tsv is already downloaded.\n"
     ]
    }
   ],
   "source": [
    "import sys\n",
    "sys.path.append(\"..\")\n",
    "from common.download_utils import download_week1_resources\n",
    "\n",
    "download_week1_resources()"
   ]
  },
  {
   "cell_type": "markdown",
   "metadata": {},
   "source": [
    "### Grading\n",
    "We will create a grader instance below and use it to collect your answers. Note that these outputs will be stored locally inside grader and will be uploaded to platform only after running submitting function in the last part of this assignment. If you want to make partial submission, you can run that cell any time you want."
   ]
  },
  {
   "cell_type": "code",
   "execution_count": 2,
   "metadata": {},
   "outputs": [],
   "source": [
    "from grader import Grader"
   ]
  },
  {
   "cell_type": "code",
   "execution_count": 3,
   "metadata": {},
   "outputs": [],
   "source": [
    "grader = Grader()"
   ]
  },
  {
   "cell_type": "markdown",
   "metadata": {},
   "source": [
    "### Text preprocessing"
   ]
  },
  {
   "cell_type": "markdown",
   "metadata": {},
   "source": [
    "For this and most of the following assignments you will need to use a list of stop words. It can be downloaded from *nltk*:"
   ]
  },
  {
   "cell_type": "code",
   "execution_count": 4,
   "metadata": {},
   "outputs": [
    {
     "name": "stderr",
     "output_type": "stream",
     "text": [
      "[nltk_data] Downloading package stopwords to\n",
      "[nltk_data]     /Users/sugamgarg/nltk_data...\n",
      "[nltk_data]   Unzipping corpora/stopwords.zip.\n"
     ]
    }
   ],
   "source": [
    "import nltk\n",
    "nltk.download('stopwords')\n",
    "from nltk.corpus import stopwords"
   ]
  },
  {
   "cell_type": "markdown",
   "metadata": {},
   "source": [
    "In this task you will deal with a dataset of post titles from StackOverflow. You are provided a split to 3 sets: *train*, *validation* and *test*. All corpora (except for *test*) contain titles of the posts and corresponding tags (100 tags are available). The *test* set is provided for Coursera's grading and doesn't contain answers. Upload the corpora using *pandas* and look at the data:"
   ]
  },
  {
   "cell_type": "code",
   "execution_count": 5,
   "metadata": {},
   "outputs": [],
   "source": [
    "from ast import literal_eval\n",
    "import pandas as pd\n",
    "import numpy as np"
   ]
  },
  {
   "cell_type": "code",
   "execution_count": 6,
   "metadata": {},
   "outputs": [],
   "source": [
    "def read_data(filename):\n",
    "    data = pd.read_csv(filename, sep='\\t')\n",
    "    data['tags'] = data['tags'].apply(literal_eval)\n",
    "    return data"
   ]
  },
  {
   "cell_type": "code",
   "execution_count": 7,
   "metadata": {},
   "outputs": [],
   "source": [
    "train = read_data('data/train.tsv')\n",
    "validation = read_data('data/validation.tsv')\n",
    "test = pd.read_csv('data/test.tsv', sep='\\t')"
   ]
  },
  {
   "cell_type": "code",
   "execution_count": 8,
   "metadata": {},
   "outputs": [
    {
     "data": {
      "text/html": [
       "<div>\n",
       "<style scoped>\n",
       "    .dataframe tbody tr th:only-of-type {\n",
       "        vertical-align: middle;\n",
       "    }\n",
       "\n",
       "    .dataframe tbody tr th {\n",
       "        vertical-align: top;\n",
       "    }\n",
       "\n",
       "    .dataframe thead th {\n",
       "        text-align: right;\n",
       "    }\n",
       "</style>\n",
       "<table border=\"1\" class=\"dataframe\">\n",
       "  <thead>\n",
       "    <tr style=\"text-align: right;\">\n",
       "      <th></th>\n",
       "      <th>title</th>\n",
       "      <th>tags</th>\n",
       "    </tr>\n",
       "  </thead>\n",
       "  <tbody>\n",
       "    <tr>\n",
       "      <th>0</th>\n",
       "      <td>How to draw a stacked dotplot in R?</td>\n",
       "      <td>[r]</td>\n",
       "    </tr>\n",
       "    <tr>\n",
       "      <th>1</th>\n",
       "      <td>mysql select all records where a datetime fiel...</td>\n",
       "      <td>[php, mysql]</td>\n",
       "    </tr>\n",
       "    <tr>\n",
       "      <th>2</th>\n",
       "      <td>How to terminate windows phone 8.1 app</td>\n",
       "      <td>[c#]</td>\n",
       "    </tr>\n",
       "    <tr>\n",
       "      <th>3</th>\n",
       "      <td>get current time in a specific country via jquery</td>\n",
       "      <td>[javascript, jquery]</td>\n",
       "    </tr>\n",
       "    <tr>\n",
       "      <th>4</th>\n",
       "      <td>Configuring Tomcat to Use SSL</td>\n",
       "      <td>[java]</td>\n",
       "    </tr>\n",
       "  </tbody>\n",
       "</table>\n",
       "</div>"
      ],
      "text/plain": [
       "                                               title                  tags\n",
       "0                How to draw a stacked dotplot in R?                   [r]\n",
       "1  mysql select all records where a datetime fiel...          [php, mysql]\n",
       "2             How to terminate windows phone 8.1 app                  [c#]\n",
       "3  get current time in a specific country via jquery  [javascript, jquery]\n",
       "4                      Configuring Tomcat to Use SSL                [java]"
      ]
     },
     "execution_count": 8,
     "metadata": {},
     "output_type": "execute_result"
    }
   ],
   "source": [
    "train.head()"
   ]
  },
  {
   "cell_type": "markdown",
   "metadata": {},
   "source": [
    "As you can see, *title* column contains titles of the posts and *tags* column contains the tags. It could be noticed that a number of tags for a post is not fixed and could be as many as necessary."
   ]
  },
  {
   "cell_type": "markdown",
   "metadata": {},
   "source": [
    "For a more comfortable usage, initialize *X_train*, *X_val*, *X_test*, *y_train*, *y_val*."
   ]
  },
  {
   "cell_type": "code",
   "execution_count": 9,
   "metadata": {},
   "outputs": [],
   "source": [
    "X_train, y_train = train['title'].values, train['tags'].values\n",
    "X_val, y_val = validation['title'].values, validation['tags'].values\n",
    "X_test = test['title'].values"
   ]
  },
  {
   "cell_type": "markdown",
   "metadata": {},
   "source": [
    "One of the most known difficulties when working with natural data is that it's unstructured. For example, if you use it \"as is\" and extract tokens just by splitting the titles by whitespaces, you will see that there are many \"weird\" tokens like *3.5?*, *\"Flip*, etc. To prevent the problems, it's usually useful to prepare the data somehow. In this task you'll write a function, which will be also used in the other assignments. \n",
    "\n",
    "**Task 1 (TextPrepare).** Implement the function *text_prepare* following the instructions. After that, run the function *test_test_prepare* to test it on tiny cases and submit it to Coursera."
   ]
  },
  {
   "cell_type": "code",
   "execution_count": 10,
   "metadata": {},
   "outputs": [],
   "source": [
    "import re"
   ]
  },
  {
   "cell_type": "code",
   "execution_count": 11,
   "metadata": {},
   "outputs": [],
   "source": [
    "REPLACE_BY_SPACE_RE = re.compile('[/(){}\\[\\]\\|@,;]')\n",
    "BAD_SYMBOLS_RE = re.compile('[^0-9a-z #+_]')\n",
    "STOPWORDS = set(stopwords.words('english'))\n",
    "\n",
    "def text_prepare(text):\n",
    "    \"\"\"\n",
    "        text: a string\n",
    "        \n",
    "        return: modified initial string\n",
    "    \"\"\"\n",
    "    text = text.lower()\n",
    "    text = re.sub(REPLACE_BY_SPACE_RE,\" \",text)     # replace REPLACE_BY_SPACE_RE symbols by space in text\n",
    "    text = re.sub(BAD_SYMBOLS_RE,\"\",text)# delete symbols which are in BAD_SYMBOLS_RE from text\n",
    "    querywords = text.split()\n",
    "    resultwords  = [word for word in querywords if word.lower() not in STOPWORDS]\n",
    "    text = ' '.join(resultwords)# delete stopwords from text\n",
    "    return text"
   ]
  },
  {
   "cell_type": "code",
   "execution_count": 12,
   "metadata": {},
   "outputs": [],
   "source": [
    "def test_text_prepare():\n",
    "    examples = [\"SQL Server - any equivalent of Excel's CHOOSE function?\",\n",
    "                \"How to free c++ memory vector<int> * arr?\"]\n",
    "    answers = [\"sql server equivalent excels choose function\", \n",
    "               \"free c++ memory vectorint arr\"]\n",
    "    for ex, ans in zip(examples, answers):\n",
    "        if text_prepare(ex) != ans:\n",
    "            return \"Wrong answer for the case: '%s'\" % ex\n",
    "    return 'Basic tests are passed.'"
   ]
  },
  {
   "cell_type": "code",
   "execution_count": 13,
   "metadata": {},
   "outputs": [
    {
     "name": "stdout",
     "output_type": "stream",
     "text": [
      "Basic tests are passed.\n"
     ]
    }
   ],
   "source": [
    "print(test_text_prepare())"
   ]
  },
  {
   "cell_type": "markdown",
   "metadata": {},
   "source": [
    "Run your implementation for questions from file *text_prepare_tests.tsv* to earn the points."
   ]
  },
  {
   "cell_type": "code",
   "execution_count": 14,
   "metadata": {},
   "outputs": [
    {
     "name": "stdout",
     "output_type": "stream",
     "text": [
      "Current answer for task TextPrepare is:\n",
      " sqlite php readonly\n",
      "creating multiple textboxes dynamically\n",
      "self one prefer javascript\n",
      "save php date...\n"
     ]
    }
   ],
   "source": [
    "prepared_questions = []\n",
    "for line in open('data/text_prepare_tests.tsv', encoding='utf-8'):\n",
    "    line = text_prepare(line.strip())\n",
    "    prepared_questions.append(line)\n",
    "text_prepare_results = '\\n'.join(prepared_questions)\n",
    "\n",
    "grader.submit_tag('TextPrepare', text_prepare_results)"
   ]
  },
  {
   "cell_type": "markdown",
   "metadata": {},
   "source": [
    "Now we can preprocess the titles using function *text_prepare* and  making sure that the headers don't have bad symbols:"
   ]
  },
  {
   "cell_type": "code",
   "execution_count": 15,
   "metadata": {},
   "outputs": [],
   "source": [
    "X_train = [text_prepare(x) for x in X_train]\n",
    "X_val = [text_prepare(x) for x in X_val]\n",
    "X_test = [text_prepare(x) for x in X_test]"
   ]
  },
  {
   "cell_type": "code",
   "execution_count": 16,
   "metadata": {},
   "outputs": [
    {
     "data": {
      "text/plain": [
       "['draw stacked dotplot r',\n",
       " 'mysql select records datetime field less specified value',\n",
       " 'terminate windows phone 81 app']"
      ]
     },
     "execution_count": 16,
     "metadata": {},
     "output_type": "execute_result"
    }
   ],
   "source": [
    "X_train[:3]"
   ]
  },
  {
   "cell_type": "markdown",
   "metadata": {},
   "source": [
    "For each tag and for each word calculate how many times they occur in the train corpus. \n",
    "\n",
    "**Task 2 (WordsTagsCount).** Find 3 most popular tags and 3 most popular words in the train data and submit the results to earn the points."
   ]
  },
  {
   "cell_type": "code",
   "execution_count": 17,
   "metadata": {},
   "outputs": [],
   "source": [
    "# Dictionary of all tags from train corpus with their counts.\n",
    "tags_counts = {}\n",
    "# Dictionary of all words from train corpus with their counts.\n",
    "words_counts = {}\n",
    "\n",
    "for x in X_train : \n",
    "    x = x.split(\" \")\n",
    "    for word in x : \n",
    "        if word in words_counts : \n",
    "            words_counts[word] += 1\n",
    "        else : \n",
    "            words_counts[word] = 1\n",
    "for y in y_train : \n",
    "    for tag in y : \n",
    "        if tag in tags_counts : \n",
    "            tags_counts[tag] += 1\n",
    "        else : \n",
    "            tags_counts[tag] = 1\n",
    "######################################\n",
    "######### YOUR CODE HERE #############\n",
    "######################################"
   ]
  },
  {
   "cell_type": "code",
   "execution_count": 18,
   "metadata": {},
   "outputs": [
    {
     "name": "stdout",
     "output_type": "stream",
     "text": [
      "WordsTagsCount javascript,c#,java\n",
      "using,php,java\n"
     ]
    }
   ],
   "source": [
    "most_common_tags = sorted(tags_counts.items(), key=lambda x: x[1], reverse=True)[:3]\n",
    "most_common_words = sorted(words_counts.items(), key=lambda x: x[1], reverse=True)[:3]\n",
    "print('WordsTagsCount', '%s\\n%s' % (','.join(tag for tag, _ in most_common_tags), \n",
    "                                                ','.join(word for word, _ in most_common_words)))"
   ]
  },
  {
   "cell_type": "markdown",
   "metadata": {},
   "source": [
    "We are assuming that *tags_counts* and *words_counts* are dictionaries like `{'some_word_or_tag': frequency}`. After applying the sorting procedure, results will be look like this: `[('most_popular_word_or_tag', frequency), ('less_popular_word_or_tag', frequency), ...]`. The grader gets the results in the following format (two comma-separated strings with line break):\n",
    "\n",
    "    tag1,tag2,tag3\n",
    "    word1,word2,word3\n",
    "\n",
    "Pay attention that in this assignment you should not submit frequencies or some additional information."
   ]
  },
  {
   "cell_type": "code",
   "execution_count": 19,
   "metadata": {},
   "outputs": [
    {
     "name": "stdout",
     "output_type": "stream",
     "text": [
      "Current answer for task WordsTagsCount is:\n",
      " javascript,c#,java\n",
      "using,php,java...\n"
     ]
    }
   ],
   "source": [
    "most_common_tags = sorted(tags_counts.items(), key=lambda x: x[1], reverse=True)[:3]\n",
    "most_common_words = sorted(words_counts.items(), key=lambda x: x[1], reverse=True)[:3]\n",
    "\n",
    "grader.submit_tag('WordsTagsCount', '%s\\n%s' % (','.join(tag for tag, _ in most_common_tags), \n",
    "                                                ','.join(word for word, _ in most_common_words)))"
   ]
  },
  {
   "cell_type": "markdown",
   "metadata": {},
   "source": [
    "### Transforming text to a vector\n",
    "\n",
    "Machine Learning algorithms work with numeric data and we cannot use the provided text data \"as is\". There are many ways to transform text data to numeric vectors. In this task you will try to use two of them.\n",
    "\n",
    "#### Bag of words\n",
    "\n",
    "One of the well-known approaches is a *bag-of-words* representation. To create this transformation, follow the steps:\n",
    "1. Find *N* most popular words in train corpus and numerate them. Now we have a dictionary of the most popular words.\n",
    "2. For each title in the corpora create a zero vector with the dimension equals to *N*.\n",
    "3. For each text in the corpora iterate over words which are in the dictionary and increase by 1 the corresponding coordinate.\n",
    "\n",
    "Let's try to do it for a toy example. Imagine that we have *N* = 4 and the list of the most popular words is \n",
    "\n",
    "    ['hi', 'you', 'me', 'are']\n",
    "\n",
    "Then we need to numerate them, for example, like this: \n",
    "\n",
    "    {'hi': 0, 'you': 1, 'me': 2, 'are': 3}\n",
    "\n",
    "And we have the text, which we want to transform to the vector:\n",
    "\n",
    "    'hi how are you'\n",
    "\n",
    "For this text we create a corresponding zero vector \n",
    "\n",
    "    [0, 0, 0, 0]\n",
    "    \n",
    "And iterate over all words, and if the word is in the dictionary, we increase the value of the corresponding position in the vector:\n",
    "\n",
    "    'hi':  [1, 0, 0, 0]\n",
    "    'how': [1, 0, 0, 0] # word 'how' is not in our dictionary\n",
    "    'are': [1, 0, 0, 1]\n",
    "    'you': [1, 1, 0, 1]\n",
    "\n",
    "The resulting vector will be \n",
    "\n",
    "    [1, 1, 0, 1]\n",
    "   \n",
    "Implement the described encoding in the function *my_bag_of_words* with the size of the dictionary equals to 5000. To find the most common words use train data. You can test your code using the function *test_my_bag_of_words*."
   ]
  },
  {
   "cell_type": "code",
   "execution_count": 20,
   "metadata": {},
   "outputs": [
    {
     "data": {
      "text/plain": [
       "['using',\n",
       " 'php',\n",
       " 'java',\n",
       " 'file',\n",
       " 'javascript',\n",
       " 'error',\n",
       " 'get',\n",
       " 'c#',\n",
       " 'python',\n",
       " 'string',\n",
       " 'array',\n",
       " 'data',\n",
       " 'jquery',\n",
       " 'value',\n",
       " 'function',\n",
       " 'object',\n",
       " 'class',\n",
       " 'use',\n",
       " 'c++',\n",
       " 'list',\n",
       " 'method',\n",
       " 'multiple',\n",
       " 'text',\n",
       " 'image',\n",
       " 'page',\n",
       " 'rails',\n",
       " 'form',\n",
       " 'create',\n",
       " 'html',\n",
       " 'type',\n",
       " 'code',\n",
       " 'set',\n",
       " 'working',\n",
       " 'database',\n",
       " 'add',\n",
       " 'convert',\n",
       " 'mysql',\n",
       " 'json',\n",
       " 'c',\n",
       " 'server',\n",
       " 'variable',\n",
       " 'android',\n",
       " 'values',\n",
       " 'aspnet',\n",
       " 'way',\n",
       " 'application',\n",
       " 'change',\n",
       " 'button',\n",
       " 'find',\n",
       " 'django',\n",
       " 'one',\n",
       " 'without',\n",
       " 'windows',\n",
       " 'cannot',\n",
       " 'table',\n",
       " 'call',\n",
       " 'files',\n",
       " 'ajax',\n",
       " 'check',\n",
       " 'time',\n",
       " 'name',\n",
       " 'two',\n",
       " 'ruby',\n",
       " 'getting',\n",
       " 'date',\n",
       " 'web',\n",
       " 'make',\n",
       " 'input',\n",
       " 'user',\n",
       " 'xml',\n",
       " 'app',\n",
       " 'another',\n",
       " 'element',\n",
       " 'custom',\n",
       " 'event',\n",
       " 'api',\n",
       " 'access',\n",
       " 'url',\n",
       " 'number',\n",
       " 'spring',\n",
       " 'view',\n",
       " 'sql',\n",
       " 'return',\n",
       " 'mvc',\n",
       " 'select',\n",
       " 'google',\n",
       " 'query',\n",
       " 'inside',\n",
       " 'exception',\n",
       " 'display',\n",
       " 'column',\n",
       " 'read',\n",
       " 'loop',\n",
       " 'swift',\n",
       " 'new',\n",
       " 'work',\n",
       " 'remove',\n",
       " 'load',\n",
       " 'r',\n",
       " 'objects',\n",
       " 'property',\n",
       " 'line',\n",
       " 'cant',\n",
       " 'pass',\n",
       " 'click',\n",
       " 'framework',\n",
       " 'update',\n",
       " 'script',\n",
       " 'vs',\n",
       " 'post',\n",
       " 'null',\n",
       " '2',\n",
       " 'creating',\n",
       " 'net',\n",
       " 'request',\n",
       " 'different',\n",
       " 'field',\n",
       " 'key',\n",
       " 'run',\n",
       " 'row',\n",
       " 'doesnt',\n",
       " 'ios',\n",
       " 'service',\n",
       " 'linq',\n",
       " 'div',\n",
       " 'open',\n",
       " 'window',\n",
       " 'project',\n",
       " 'wpf',\n",
       " 'format',\n",
       " 'best',\n",
       " 'show',\n",
       " 'controller',\n",
       " 'variables',\n",
       " 'undefined',\n",
       " 'specific',\n",
       " 'dynamically',\n",
       " 'adding',\n",
       " 'based',\n",
       " 'angularjs',\n",
       " 'control',\n",
       " 'parameter',\n",
       " 'send',\n",
       " 'model',\n",
       " '3',\n",
       " 'library',\n",
       " 'difference',\n",
       " 'insert',\n",
       " 'first',\n",
       " 'passing',\n",
       " 'vbnet',\n",
       " 'js',\n",
       " 'regex',\n",
       " 'elements',\n",
       " 'codeigniter',\n",
       " 'eclipse',\n",
       " 'within',\n",
       " 'path',\n",
       " 'dynamic',\n",
       " 'visual',\n",
       " 'memory',\n",
       " 'connection',\n",
       " 'possible',\n",
       " 'id',\n",
       " 'thread',\n",
       " 'save',\n",
       " 'default',\n",
       " 'via',\n",
       " '+',\n",
       " 'running',\n",
       " 'size',\n",
       " 'program',\n",
       " 'found',\n",
       " 'content',\n",
       " 'reference',\n",
       " 'issue',\n",
       " 'attribute',\n",
       " 'write',\n",
       " 'studio',\n",
       " 'laravel',\n",
       " 'search',\n",
       " 'test',\n",
       " 'excel',\n",
       " 'static',\n",
       " 'session',\n",
       " 'output',\n",
       " 'http',\n",
       " 'character',\n",
       " 'characters',\n",
       " 'entity',\n",
       " 'current',\n",
       " 'problem',\n",
       " 'client',\n",
       " 'calling',\n",
       " 'empty',\n",
       " 'simple',\n",
       " 'int',\n",
       " 'css',\n",
       " 'parameters',\n",
       " 'upload',\n",
       " 'command',\n",
       " 'reading',\n",
       " 'directory',\n",
       " 'validation',\n",
       " '1',\n",
       " 'map',\n",
       " 'hibernate',\n",
       " 'selected',\n",
       " 'textbox',\n",
       " 'unable',\n",
       " 'browser',\n",
       " 'images',\n",
       " 'item',\n",
       " 'link',\n",
       " 'index',\n",
       " 'facebook',\n",
       " 'expression',\n",
       " 'store',\n",
       " 'setting',\n",
       " 'delete',\n",
       " 'single',\n",
       " 'template',\n",
       " 'like',\n",
       " 'statement',\n",
       " 'strings',\n",
       " 'rows',\n",
       " 'failed',\n",
       " 'header',\n",
       " 'replace',\n",
       " 'loading',\n",
       " 'login',\n",
       " 'box',\n",
       " 'iphone',\n",
       " '4',\n",
       " 'numbers',\n",
       " 'color',\n",
       " 'nested',\n",
       " 'returning',\n",
       " 'print',\n",
       " 'instance',\n",
       " 'background',\n",
       " 'pdf',\n",
       " 'char',\n",
       " 'parse',\n",
       " 'could',\n",
       " 'disable',\n",
       " 'bootstrap',\n",
       " 'message',\n",
       " 'csv',\n",
       " 'module',\n",
       " 'tag',\n",
       " 'chrome',\n",
       " 'converting',\n",
       " 'x',\n",
       " 'parent',\n",
       " 'invalid',\n",
       " 'returns',\n",
       " 'local',\n",
       " 'methods',\n",
       " 'need',\n",
       " 'connect',\n",
       " 'email',\n",
       " 'changing',\n",
       " 'trying',\n",
       " 'response',\n",
       " 'functions',\n",
       " 'install',\n",
       " 'redirect',\n",
       " 'angular',\n",
       " 'order',\n",
       " 'dictionary',\n",
       " 'arrays',\n",
       " 'dropdown',\n",
       " 'classes',\n",
       " 'folder',\n",
       " 'generate',\n",
       " 'bar',\n",
       " 'submit',\n",
       " 'pandas',\n",
       " 'process',\n",
       " 'columns',\n",
       " 'child',\n",
       " 'source',\n",
       " 'checkbox',\n",
       " 'integer',\n",
       " 'count',\n",
       " 'sending',\n",
       " 'parsing',\n",
       " 'items',\n",
       " 'start',\n",
       " 'detect',\n",
       " 'double',\n",
       " 'datetime',\n",
       " 'hide',\n",
       " 'fields',\n",
       " 'jsp',\n",
       " 'console',\n",
       " 'gridview',\n",
       " 'pointer',\n",
       " 'selenium',\n",
       " 'linux',\n",
       " 'constructor',\n",
       " 'import',\n",
       " 'random',\n",
       " '7',\n",
       " 'programmatically',\n",
       " 'action',\n",
       " 'collection',\n",
       " 'instead',\n",
       " 'version',\n",
       " 'datagridview',\n",
       " 'filter',\n",
       " 'sort',\n",
       " 'objectivec',\n",
       " 'website',\n",
       " 'generic',\n",
       " 'last',\n",
       " 'result',\n",
       " 'build',\n",
       " 'system',\n",
       " 'download',\n",
       " 'split',\n",
       " 'properties',\n",
       " 'interface',\n",
       " 'iframe',\n",
       " 'back',\n",
       " 'nodejs',\n",
       " 'cell',\n",
       " 'binding',\n",
       " 'arguments',\n",
       " 'datatable',\n",
       " '5',\n",
       " 'syntax',\n",
       " 'xcode',\n",
       " 'scroll',\n",
       " 'onclick',\n",
       " 'binary',\n",
       " 'external',\n",
       " 'position',\n",
       " 'execute',\n",
       " '0',\n",
       " 'socket',\n",
       " 'rest',\n",
       " 'called',\n",
       " 'missing',\n",
       " 'word',\n",
       " 'maps',\n",
       " 'implement',\n",
       " 'typeerror',\n",
       " 'byte',\n",
       " 'whats',\n",
       " 'extension',\n",
       " 'copy',\n",
       " 'refresh',\n",
       " 'video',\n",
       " 'menu',\n",
       " 'match',\n",
       " 'given',\n",
       " 'argument',\n",
       " 'node',\n",
       " 'wordpress',\n",
       " 'include',\n",
       " 'retrieve',\n",
       " 'regular',\n",
       " 'accessing',\n",
       " 'forms',\n",
       " 'canvas',\n",
       " 'showing',\n",
       " 'document',\n",
       " 'results',\n",
       " 'ui',\n",
       " 'runtime',\n",
       " 'arraylist',\n",
       " 'defined',\n",
       " 'handle',\n",
       " 'drop',\n",
       " 'group',\n",
       " 'apache',\n",
       " 'errors',\n",
       " 'large',\n",
       " 'opencv',\n",
       " 'height',\n",
       " 'compare',\n",
       " 'wcf',\n",
       " 'address',\n",
       " 'ie',\n",
       " 'mobile',\n",
       " 'many',\n",
       " 'properly',\n",
       " 'member',\n",
       " 'equivalent',\n",
       " '8',\n",
       " 'screen',\n",
       " 'exists',\n",
       " 'global',\n",
       " 'plugin',\n",
       " 'password',\n",
       " 'expected',\n",
       " 'vector',\n",
       " 'events',\n",
       " 'jar',\n",
       " 'maven',\n",
       " 'length',\n",
       " 'location',\n",
       " 'writing',\n",
       " 'types',\n",
       " 'numpy',\n",
       " 'servlet',\n",
       " 'html5',\n",
       " 'extract',\n",
       " 'width',\n",
       " 'stored',\n",
       " 'close',\n",
       " 'dataframe',\n",
       " 'dialog',\n",
       " 'certain',\n",
       " 'help',\n",
       " 'used',\n",
       " 'range',\n",
       " 'style',\n",
       " 'names',\n",
       " 'handling',\n",
       " 'prevent',\n",
       " 'automatically',\n",
       " 'works',\n",
       " 'resource',\n",
       " 'magento',\n",
       " 'every',\n",
       " 'tomcat',\n",
       " 'fails',\n",
       " 'cast',\n",
       " 'created',\n",
       " 'pattern',\n",
       " 'warning',\n",
       " 'frame',\n",
       " 'popup',\n",
       " 'wrong',\n",
       " 'contains',\n",
       " 'validate',\n",
       " 'displaying',\n",
       " 'enum',\n",
       " 'updating',\n",
       " 'qt',\n",
       " 'curl',\n",
       " 'package',\n",
       " 'stop',\n",
       " 'must',\n",
       " 'testing',\n",
       " 'listview',\n",
       " 'operator',\n",
       " '2d',\n",
       " 'space',\n",
       " 'put',\n",
       " 'authentication',\n",
       " 'context',\n",
       " 'conversion',\n",
       " 'keys',\n",
       " 'auto',\n",
       " 'structure',\n",
       " 'callback',\n",
       " 'main',\n",
       " 'saving',\n",
       " 'token',\n",
       " 'end',\n",
       " 'exist',\n",
       " 'long',\n",
       " 'tab',\n",
       " 'db',\n",
       " 'problems',\n",
       " 'foreach',\n",
       " 'existing',\n",
       " 'dll',\n",
       " 'always',\n",
       " 'block',\n",
       " 'sorting',\n",
       " 'grid',\n",
       " 'finding',\n",
       " 'matplotlib',\n",
       " 'remote',\n",
       " 'sqlite',\n",
       " 'buttons',\n",
       " 'option',\n",
       " 'bind',\n",
       " 'determine',\n",
       " 'modal',\n",
       " 'firefox',\n",
       " 'stream',\n",
       " 'performance',\n",
       " 'tags',\n",
       " 'label',\n",
       " 'plot',\n",
       " 'mac',\n",
       " 'join',\n",
       " 'decimal',\n",
       " 'combobox',\n",
       " 'uncaught',\n",
       " 'phone',\n",
       " 'radio',\n",
       " 'example',\n",
       " 'chart',\n",
       " 'compile',\n",
       " 'unexpected',\n",
       " 'attributes',\n",
       " 'dom',\n",
       " 'checking',\n",
       " 'correctly',\n",
       " 'right',\n",
       " 'tables',\n",
       " 'point',\n",
       " 'installing',\n",
       " 'lines',\n",
       " 'base',\n",
       " 'mouse',\n",
       " 'float',\n",
       " 'users',\n",
       " 'basic',\n",
       " 'support',\n",
       " 'struct',\n",
       " 'tree',\n",
       " 'making',\n",
       " 'unit',\n",
       " 'unique',\n",
       " 'scope',\n",
       " 'threads',\n",
       " 'correct',\n",
       " 'hash',\n",
       " 'duplicate',\n",
       " 'catch',\n",
       " 'next',\n",
       " 'handler',\n",
       " 'mean',\n",
       " 'already',\n",
       " 'wont',\n",
       " 'even',\n",
       " 'good',\n",
       " 'edit',\n",
       " 'task',\n",
       " 'admin',\n",
       " 'uitableview',\n",
       " 'removing',\n",
       " 'matrix',\n",
       " 'namespace',\n",
       " 'contents',\n",
       " 'pages',\n",
       " 'valid',\n",
       " 'graph',\n",
       " 'dates',\n",
       " 'lists',\n",
       " 'sdk',\n",
       " 'log',\n",
       " 'encoding',\n",
       " 'const',\n",
       " 'debug',\n",
       " 'objective',\n",
       " 'case',\n",
       " 'calculate',\n",
       " 'changes',\n",
       " 'site',\n",
       " 'programming',\n",
       " 'configuration',\n",
       " 'storing',\n",
       " 'side',\n",
       " 'active',\n",
       " 'sum',\n",
       " 'full',\n",
       " 'limit',\n",
       " 'keep',\n",
       " 'jpa',\n",
       " 'top',\n",
       " 'listbox',\n",
       " 'implementation',\n",
       " 'animation',\n",
       " 'unicode',\n",
       " 'append',\n",
       " 'override',\n",
       " 'printing',\n",
       " 'mongodb',\n",
       " 'twitter',\n",
       " 'allow',\n",
       " 'record',\n",
       " 'winforms',\n",
       " 'part',\n",
       " 'resize',\n",
       " 'utf8',\n",
       " 'core',\n",
       " 'lambda',\n",
       " 'loaded',\n",
       " 'mail',\n",
       " 'ip',\n",
       " 'security',\n",
       " 'controls',\n",
       " 'play',\n",
       " 'times',\n",
       " 'pdo',\n",
       " 'layout',\n",
       " 'selection',\n",
       " 'async',\n",
       " 'fatal',\n",
       " 'game',\n",
       " 'records',\n",
       " 'bean',\n",
       " 'language',\n",
       " 'boolean',\n",
       " 'webdriver',\n",
       " 'cookie',\n",
       " 'draw',\n",
       " 'constant',\n",
       " 'switch',\n",
       " 'outside',\n",
       " 'cakephp',\n",
       " 'domain',\n",
       " 'gui',\n",
       " 'force',\n",
       " 'unknown',\n",
       " 'true',\n",
       " 'inserting',\n",
       " 'assign',\n",
       " 'wait',\n",
       " 'port',\n",
       " 'false',\n",
       " 'mode',\n",
       " '20',\n",
       " 'slow',\n",
       " 'named',\n",
       " 'state',\n",
       " 'focus',\n",
       " 'oracle',\n",
       " 'issues',\n",
       " 'requests',\n",
       " 'mapping',\n",
       " 'netbeans',\n",
       " 'available',\n",
       " 'condition',\n",
       " 'multidimensional',\n",
       " 'enable',\n",
       " 'generated',\n",
       " 'ubuntu',\n",
       " 'assembly',\n",
       " 'jdbc',\n",
       " 'uploading',\n",
       " 'clicked',\n",
       " 'device',\n",
       " 'gem',\n",
       " 'populate',\n",
       " 'yii',\n",
       " 'specified',\n",
       " 'swing',\n",
       " 'soap',\n",
       " 'required',\n",
       " 'special',\n",
       " 'engine',\n",
       " 'initialize',\n",
       " 'checked',\n",
       " 'exceptions',\n",
       " '2010',\n",
       " 'executing',\n",
       " 'know',\n",
       " 'network',\n",
       " 'bad',\n",
       " 'native',\n",
       " 'avoid',\n",
       " 'tkinter',\n",
       " 'javafx',\n",
       " 'try',\n",
       " 'design',\n",
       " '6',\n",
       " 'timeout',\n",
       " 'month',\n",
       " 'export',\n",
       " 'webservice',\n",
       " 'efficient',\n",
       " 'trigger',\n",
       " 'n',\n",
       " 'want',\n",
       " '404',\n",
       " 'heroku',\n",
       " 'move',\n",
       " 'question',\n",
       " 'os',\n",
       " 'component',\n",
       " 'timer',\n",
       " 'dont',\n",
       " 'iterate',\n",
       " 'stack',\n",
       " '10',\n",
       " 'zend',\n",
       " 'words',\n",
       " 'body',\n",
       " 'textarea',\n",
       " 'views',\n",
       " 'implementing',\n",
       " 'compiler',\n",
       " 'clicking',\n",
       " 'linked',\n",
       " 'symbol',\n",
       " 'clear',\n",
       " 'render',\n",
       " 'flask',\n",
       " 'root',\n",
       " 'navigation',\n",
       " 'symfony2',\n",
       " 'second',\n",
       " 'define',\n",
       " 'datagrid',\n",
       " 'pointers',\n",
       " 'fill',\n",
       " 'ssl',\n",
       " 'inheritance',\n",
       " 'private',\n",
       " 'route',\n",
       " 'procedure',\n",
       " 'particular',\n",
       " 'rspec',\n",
       " 'information',\n",
       " 'left',\n",
       " 'scrolling',\n",
       " 'declaration',\n",
       " 'status',\n",
       " 'behind',\n",
       " 'bytes',\n",
       " 'fetch',\n",
       " 'fix',\n",
       " 'services',\n",
       " 'calendar',\n",
       " 'reflection',\n",
       " 'push',\n",
       " 'spaces',\n",
       " 'algorithm',\n",
       " 'xpath',\n",
       " 'alert',\n",
       " 'apply',\n",
       " 'cache',\n",
       " 'integers',\n",
       " 'youtube',\n",
       " 'development',\n",
       " 'calls',\n",
       " 'dependency',\n",
       " 'options',\n",
       " 'maximum',\n",
       " 'hex',\n",
       " 'max',\n",
       " 'https',\n",
       " 'usage',\n",
       " 'progress',\n",
       " 'target',\n",
       " 'previous',\n",
       " 'environment',\n",
       " 'models',\n",
       " 'merge',\n",
       " 'title',\n",
       " 'practice',\n",
       " 'internet',\n",
       " 'comparing',\n",
       " 'changed',\n",
       " 'headers',\n",
       " 'notification',\n",
       " 'driver',\n",
       " 'libraries',\n",
       " 'boost',\n",
       " 'matching',\n",
       " 'apps',\n",
       " 'statements',\n",
       " 'panel',\n",
       " 'symfony',\n",
       " 'shared',\n",
       " 'font',\n",
       " 'opengl',\n",
       " 'tests',\n",
       " 'processing',\n",
       " 'comma',\n",
       " 'public',\n",
       " 'xaml',\n",
       " 'installed',\n",
       " 'datepicker',\n",
       " 'separate',\n",
       " 'standard',\n",
       " 'icon',\n",
       " 'resources',\n",
       " 'directive',\n",
       " 'report',\n",
       " 'abstract',\n",
       " 'links',\n",
       " 'htaccess',\n",
       " 'better',\n",
       " 'hidden',\n",
       " 'container',\n",
       " 'serialize',\n",
       " 'debugging',\n",
       " 'logging',\n",
       " 'would',\n",
       " 'asp',\n",
       " 'resolve',\n",
       " 'autocomplete',\n",
       " 'junit',\n",
       " 'configure',\n",
       " 'ggplot2',\n",
       " 'react',\n",
       " 'see',\n",
       " 'hashmap',\n",
       " 'partial',\n",
       " 'alternative',\n",
       " 'queries',\n",
       " 'selecting',\n",
       " 'visible',\n",
       " 'echo',\n",
       " 'messages',\n",
       " 'returned',\n",
       " 'throws',\n",
       " 'devise',\n",
       " 'something',\n",
       " 'keyboard',\n",
       " 'proxy',\n",
       " 'svg',\n",
       " 'checkboxes',\n",
       " 'declare',\n",
       " 'generating',\n",
       " 'denied',\n",
       " 'take',\n",
       " 'jtable',\n",
       " 'whether',\n",
       " 'coordinates',\n",
       " 'escape',\n",
       " 'operation',\n",
       " 'quotes',\n",
       " 'causes',\n",
       " 'virtual',\n",
       " 'formatting',\n",
       " 'extjs',\n",
       " 'day',\n",
       " 'drag',\n",
       " 'jsf',\n",
       " 'reload',\n",
       " 'drawing',\n",
       " 'setup',\n",
       " 'contain',\n",
       " 'shell',\n",
       " 'product',\n",
       " 'dataset',\n",
       " 'intellij',\n",
       " 'machine',\n",
       " 'delegate',\n",
       " 'webpage',\n",
       " 'entities',\n",
       " 'rendering',\n",
       " 'queue',\n",
       " 'strange',\n",
       " 'phonegap',\n",
       " 'containing',\n",
       " 'cells',\n",
       " 'applications',\n",
       " 'twice',\n",
       " 'dropdownlist',\n",
       " 'connecting',\n",
       " 'inline',\n",
       " 'per',\n",
       " 'execution',\n",
       " 'gcc',\n",
       " 'blank',\n",
       " 'relationship',\n",
       " 'uiview',\n",
       " 'level',\n",
       " 'opening',\n",
       " 'ms',\n",
       " 'conditional',\n",
       " 'razor',\n",
       " 'serialization',\n",
       " 'gives',\n",
       " 'widget',\n",
       " 'initialization',\n",
       " 'relative',\n",
       " 'modify',\n",
       " 'safe',\n",
       " 'etc',\n",
       " 'internal',\n",
       " 'nodes',\n",
       " 'jqgrid',\n",
       " 'definition',\n",
       " 'timestamp',\n",
       " 'capture',\n",
       " 'batch',\n",
       " 'importing',\n",
       " 'building',\n",
       " 'retrieving',\n",
       " 'expressions',\n",
       " 'compiling',\n",
       " 'else',\n",
       " 'allowed',\n",
       " 'added',\n",
       " 'still',\n",
       " 'numeric',\n",
       " 'tcp',\n",
       " 'year',\n",
       " 'host',\n",
       " 'sqlalchemy',\n",
       " 'seconds',\n",
       " 'doctrine',\n",
       " 'boot',\n",
       " 'highcharts',\n",
       " 'cookies',\n",
       " 'selector',\n",
       " 'href',\n",
       " 'nsstring',\n",
       " 'foreign',\n",
       " 'jframe',\n",
       " 'jackson',\n",
       " 'starting',\n",
       " 'config',\n",
       " 'annotation',\n",
       " 'embedded',\n",
       " 'fast',\n",
       " 'reset',\n",
       " 'protocol',\n",
       " 'touch',\n",
       " 'injection',\n",
       " 'section',\n",
       " 'firing',\n",
       " 'tabs',\n",
       " 'jaxb',\n",
       " 'webbrowser',\n",
       " 'ascii',\n",
       " 'points',\n",
       " 'closing',\n",
       " 'overriding',\n",
       " 'transaction',\n",
       " 'postgresql',\n",
       " 'trouble',\n",
       " 'hover',\n",
       " 'sharepoint',\n",
       " 'passed',\n",
       " 'labels',\n",
       " 'cursor',\n",
       " 'able',\n",
       " 'gwt',\n",
       " 'recursive',\n",
       " 'specify',\n",
       " 'sequence',\n",
       " 'localhost',\n",
       " 'explorer',\n",
       " 'urls',\n",
       " 'asynchronous',\n",
       " 'assignment',\n",
       " 'replacing',\n",
       " 'deploy',\n",
       " 'fixed',\n",
       " 'webview',\n",
       " 'giving',\n",
       " 'days',\n",
       " 'templates',\n",
       " 'exit',\n",
       " 'fastest',\n",
       " 'base64',\n",
       " 'anchor',\n",
       " 'restful',\n",
       " 'deleting',\n",
       " 'toggle',\n",
       " 'axis',\n",
       " 'nil',\n",
       " 'go',\n",
       " 'v3',\n",
       " 'enter',\n",
       " 'osx',\n",
       " 'proper',\n",
       " 'vb',\n",
       " '500',\n",
       " 'moving',\n",
       " 'digits',\n",
       " 'nhibernate',\n",
       " 'casting',\n",
       " 'ignore',\n",
       " 'stl',\n",
       " 'faster',\n",
       " 'activerecord',\n",
       " 'permission',\n",
       " 'settings',\n",
       " 'pagination',\n",
       " 'mysqli',\n",
       " 'border',\n",
       " 'lock',\n",
       " 'including',\n",
       " 'loops',\n",
       " 'serial',\n",
       " 'declared',\n",
       " 'incorrect',\n",
       " 'caching',\n",
       " 'activity',\n",
       " 'username',\n",
       " 'real',\n",
       " 's3',\n",
       " 'effect',\n",
       " 'sent',\n",
       " 'comparison',\n",
       " 'complex',\n",
       " 'complete',\n",
       " 'safari',\n",
       " 'invoke',\n",
       " 'across',\n",
       " 'uitableviewcell',\n",
       " 'txt',\n",
       " 'void',\n",
       " 'audio',\n",
       " ...]"
      ]
     },
     "execution_count": 20,
     "metadata": {},
     "output_type": "execute_result"
    }
   ],
   "source": [
    "sorted(words_counts, key=words_counts.get, reverse=True)"
   ]
  },
  {
   "cell_type": "code",
   "execution_count": 21,
   "metadata": {},
   "outputs": [],
   "source": [
    "DICT_SIZE = 5000\n",
    "WORDS_TO_INDEX = {} ####### YOUR CODE HERE #######\n",
    "freq_sorted_words = sorted(words_counts, key=words_counts.get, reverse=True)\n",
    "ctr = 0\n",
    "for word in freq_sorted_words : \n",
    "    WORDS_TO_INDEX[word] = ctr\n",
    "    ctr += 1\n",
    "ctr = 0\n",
    "INDEX_TO_WORDS = {}####### YOUR CODE HERE #######\n",
    "for word in freq_sorted_words : \n",
    "    INDEX_TO_WORDS[ctr] = word\n",
    "    ctr += 1\n",
    "\n",
    "ALL_WORDS = WORDS_TO_INDEX.keys()\n",
    "\n",
    "def my_bag_of_words(text, words_to_index, dict_size):\n",
    "    \"\"\"\n",
    "        text: a string\n",
    "        dict_size: size of the dictionary\n",
    "        \n",
    "        return a vector which is a bag-of-words representation of 'text'\n",
    "    \"\"\"\n",
    "    result_vector = np.zeros(dict_size)\n",
    "    for word in text.split(\" \") : \n",
    "        if word in words_to_index : \n",
    "            if words_to_index[word] < dict_size : \n",
    "                result_vector[words_to_index[word]] += 1\n",
    "    ######################################\n",
    "    ######### YOUR CODE HERE #############\n",
    "    ######################################\n",
    "    return result_vector"
   ]
  },
  {
   "cell_type": "code",
   "execution_count": 22,
   "metadata": {},
   "outputs": [],
   "source": [
    "def test_my_bag_of_words():\n",
    "    words_to_index = {'hi': 0, 'you': 1, 'me': 2, 'are': 3}\n",
    "    examples = ['hi how are you']\n",
    "    answers = [[1, 1, 0, 1]]\n",
    "    for ex, ans in zip(examples, answers):\n",
    "        if (my_bag_of_words(ex, words_to_index, 4) != ans).any():\n",
    "            return \"Wrong answer for the case: '%s'\" % ex\n",
    "    return 'Basic tests are passed.'"
   ]
  },
  {
   "cell_type": "code",
   "execution_count": 23,
   "metadata": {},
   "outputs": [
    {
     "name": "stdout",
     "output_type": "stream",
     "text": [
      "Basic tests are passed.\n"
     ]
    }
   ],
   "source": [
    "print(test_my_bag_of_words())"
   ]
  },
  {
   "cell_type": "markdown",
   "metadata": {},
   "source": [
    "Now apply the implemented function to all samples (this might take up to a minute):"
   ]
  },
  {
   "cell_type": "code",
   "execution_count": 24,
   "metadata": {},
   "outputs": [],
   "source": [
    "from scipy import sparse as sp_sparse"
   ]
  },
  {
   "cell_type": "code",
   "execution_count": 25,
   "metadata": {},
   "outputs": [
    {
     "name": "stdout",
     "output_type": "stream",
     "text": [
      "X_train shape  (100000, 5000)\n",
      "X_val shape  (30000, 5000)\n",
      "X_test shape  (20000, 5000)\n"
     ]
    }
   ],
   "source": [
    "X_train_mybag = sp_sparse.vstack([sp_sparse.csr_matrix(my_bag_of_words(text, WORDS_TO_INDEX, DICT_SIZE)) for text in X_train])\n",
    "X_val_mybag = sp_sparse.vstack([sp_sparse.csr_matrix(my_bag_of_words(text, WORDS_TO_INDEX, DICT_SIZE)) for text in X_val])\n",
    "X_test_mybag = sp_sparse.vstack([sp_sparse.csr_matrix(my_bag_of_words(text, WORDS_TO_INDEX, DICT_SIZE)) for text in X_test])\n",
    "print('X_train shape ', X_train_mybag.shape)\n",
    "print('X_val shape ', X_val_mybag.shape)\n",
    "print('X_test shape ', X_test_mybag.shape)"
   ]
  },
  {
   "cell_type": "markdown",
   "metadata": {},
   "source": [
    "As you might notice, we transform the data to sparse representation, to store the useful information efficiently. There are many [types](https://docs.scipy.org/doc/scipy/reference/sparse.html) of such representations, however sklearn algorithms can work only with [csr](https://docs.scipy.org/doc/scipy/reference/generated/scipy.sparse.csr_matrix.html#scipy.sparse.csr_matrix) matrix, so we will use this one."
   ]
  },
  {
   "cell_type": "markdown",
   "metadata": {},
   "source": [
    "**Task 3 (BagOfWords).** For the 11th row in *X_train_mybag* find how many non-zero elements it has. In this task the answer (variable *non_zero_elements_count*) should be a number, e.g. 20."
   ]
  },
  {
   "cell_type": "code",
   "execution_count": 26,
   "metadata": {},
   "outputs": [
    {
     "name": "stdout",
     "output_type": "stream",
     "text": [
      "7\n"
     ]
    }
   ],
   "source": [
    "row = X_train_mybag[10].toarray()[0]\n",
    "ctr = 0\n",
    "for val in row : \n",
    "    if val > 0 : \n",
    "        ctr += 1\n",
    "print(ctr)"
   ]
  },
  {
   "cell_type": "code",
   "execution_count": 27,
   "metadata": {},
   "outputs": [
    {
     "name": "stdout",
     "output_type": "stream",
     "text": [
      "Current answer for task BagOfWords is:\n",
      " 7...\n"
     ]
    }
   ],
   "source": [
    "row = X_train_mybag[10].toarray()[0]\n",
    "ctr = 0\n",
    "for val in row : \n",
    "    if val > 0 : \n",
    "        ctr += 1\n",
    "non_zero_elements_count = ctr ####### YOUR CODE HERE #######\n",
    "\n",
    "grader.submit_tag('BagOfWords', str(non_zero_elements_count))"
   ]
  },
  {
   "cell_type": "markdown",
   "metadata": {},
   "source": [
    "#### TF-IDF\n",
    "\n",
    "The second approach extends the bag-of-words framework by taking into account total frequencies of words in the corpora. It helps to penalize too frequent words and provide better features space. \n",
    "\n",
    "Implement function *tfidf_features* using class [TfidfVectorizer](http://scikit-learn.org/stable/modules/generated/sklearn.feature_extraction.text.TfidfVectorizer.html) from *scikit-learn*. Use *train* corpus to train a vectorizer. Don't forget to take a look into the arguments that you can pass to it. We suggest that you filter out too rare words (occur less than in 5 titles) and too frequent words (occur more than in 90% of the titles). Also, use bigrams along with unigrams in your vocabulary. "
   ]
  },
  {
   "cell_type": "code",
   "execution_count": 28,
   "metadata": {},
   "outputs": [],
   "source": [
    "from sklearn.feature_extraction.text import TfidfVectorizer"
   ]
  },
  {
   "cell_type": "code",
   "execution_count": 29,
   "metadata": {},
   "outputs": [],
   "source": [
    "def tfidf_features(X_train, X_val, X_test):\n",
    "    \"\"\"\n",
    "        X_train, X_val, X_test — samples        \n",
    "        return TF-IDF vectorized representation of each sample and vocabulary\n",
    "    \"\"\"\n",
    "    # Create TF-IDF vectorizer with a proper parameters choice\n",
    "    # Fit the vectorizer on the train set\n",
    "    # Transform the train, test, and val sets and return the result\n",
    "    \n",
    "    \n",
    "    tfidf_vectorizer = TfidfVectorizer(X_train, ngram_range=(1,2), max_df=0.9, min_df = 5,token_pattern='(\\S+)')####### YOUR CODE HERE #######\n",
    "    X_train = tfidf_vectorizer.fit_transform(X_train)\n",
    "    #X_train = tfidf_vectorizer.transform(X_train)\n",
    "    X_val = tfidf_vectorizer.transform(X_val)\n",
    "    X_test = tfidf_vectorizer.transform(X_test)\n",
    "    ######################################\n",
    "    ######### YOUR CODE HERE #############\n",
    "    ######################################\n",
    "    \n",
    "    return X_train, X_val, X_test, tfidf_vectorizer.vocabulary_"
   ]
  },
  {
   "cell_type": "markdown",
   "metadata": {},
   "source": [
    "Once you have done text preprocessing, always have a look at the results. Be very careful at this step, because the performance of future models will drastically depend on it. \n",
    "\n",
    "In this case, check whether you have c++ or c# in your vocabulary, as they are obviously important tokens in our tags prediction task:"
   ]
  },
  {
   "cell_type": "code",
   "execution_count": 30,
   "metadata": {},
   "outputs": [],
   "source": [
    "X_train_tfidf, X_val_tfidf, X_test_tfidf, tfidf_vocab = tfidf_features(X_train, X_val, X_test)\n",
    "tfidf_reversed_vocab = {i:word for word,i in tfidf_vocab.items()}"
   ]
  },
  {
   "cell_type": "code",
   "execution_count": 31,
   "metadata": {},
   "outputs": [],
   "source": [
    "######### YOUR CODE HERE #############"
   ]
  },
  {
   "cell_type": "markdown",
   "metadata": {},
   "source": [
    "If you can't find it, we need to understand how did it happen that we lost them? It happened during the built-in tokenization of TfidfVectorizer. Luckily, we can influence on this process. Get back to the function above and use '(\\S+)' regexp as a *token_pattern* in the constructor of the vectorizer.  "
   ]
  },
  {
   "cell_type": "markdown",
   "metadata": {},
   "source": [
    "Now, use this transormation for the data and check again."
   ]
  },
  {
   "cell_type": "code",
   "execution_count": 32,
   "metadata": {},
   "outputs": [
    {
     "data": {
      "text/plain": [
       "1976"
      ]
     },
     "execution_count": 32,
     "metadata": {},
     "output_type": "execute_result"
    }
   ],
   "source": [
    "######### YOUR CODE HERE #############\n",
    "tfidf_vocab['c++']"
   ]
  },
  {
   "cell_type": "markdown",
   "metadata": {},
   "source": [
    "### MultiLabel classifier\n",
    "\n",
    "As we have noticed before, in this task each example can have multiple tags. To deal with such kind of prediction, we need to transform labels in a binary form and the prediction will be a mask of 0s and 1s. For this purpose it is convenient to use [MultiLabelBinarizer](http://scikit-learn.org/stable/modules/generated/sklearn.preprocessing.MultiLabelBinarizer.html) from *sklearn*."
   ]
  },
  {
   "cell_type": "code",
   "execution_count": 33,
   "metadata": {},
   "outputs": [],
   "source": [
    "from sklearn.preprocessing import MultiLabelBinarizer"
   ]
  },
  {
   "cell_type": "code",
   "execution_count": 34,
   "metadata": {},
   "outputs": [],
   "source": [
    "mlb = MultiLabelBinarizer(classes=sorted(tags_counts.keys()))\n",
    "y_train = mlb.fit_transform(y_train)\n",
    "y_val = mlb.fit_transform(y_val)"
   ]
  },
  {
   "cell_type": "markdown",
   "metadata": {},
   "source": [
    "Implement the function *train_classifier* for training a classifier. In this task we suggest to use One-vs-Rest approach, which is implemented in [OneVsRestClassifier](http://scikit-learn.org/stable/modules/generated/sklearn.multiclass.OneVsRestClassifier.html) class. In this approach *k* classifiers (= number of tags) are trained. As a basic classifier, use [LogisticRegression](http://scikit-learn.org/stable/modules/generated/sklearn.linear_model.LogisticRegression.html). It is one of the simplest methods, but often it performs good enough in text classification tasks. It might take some time, because a number of classifiers to train is large."
   ]
  },
  {
   "cell_type": "code",
   "execution_count": 35,
   "metadata": {},
   "outputs": [],
   "source": [
    "from sklearn.multiclass import OneVsRestClassifier\n",
    "from sklearn.linear_model import LogisticRegression, RidgeClassifier"
   ]
  },
  {
   "cell_type": "code",
   "execution_count": 118,
   "metadata": {},
   "outputs": [],
   "source": [
    "def train_classifier(X_train, y_train):\n",
    "    \"\"\"\n",
    "      X_train, y_train — training data\n",
    "      \n",
    "      return: trained classifier\n",
    "    \"\"\"\n",
    "    classifier = OneVsRestClassifier(LogisticRegression(penalty = 'l1', C=3, solver = 'liblinear'))\n",
    "    classifier.fit(X_train,y_train)\n",
    "    # Create and fit LogisticRegression wraped into OneVsRestClassifier.\n",
    "    return classifier\n",
    "    ######################################\n",
    "    ######### YOUR CODE HERE #############\n",
    "    ######################################    "
   ]
  },
  {
   "cell_type": "markdown",
   "metadata": {},
   "source": [
    "Train the classifiers for different data transformations: *bag-of-words* and *tf-idf*."
   ]
  },
  {
   "cell_type": "code",
   "execution_count": 119,
   "metadata": {},
   "outputs": [],
   "source": [
    "classifier_mybag = train_classifier(X_train_mybag, y_train)\n",
    "classifier_tfidf = train_classifier(X_train_tfidf, y_train)"
   ]
  },
  {
   "cell_type": "markdown",
   "metadata": {},
   "source": [
    "Now you can create predictions for the data. You will need two types of predictions: labels and scores."
   ]
  },
  {
   "cell_type": "code",
   "execution_count": 120,
   "metadata": {},
   "outputs": [],
   "source": [
    "y_val_predicted_labels_mybag = classifier_mybag.predict(X_val_mybag)\n",
    "y_val_predicted_scores_mybag = classifier_mybag.decision_function(X_val_mybag)\n",
    "\n",
    "y_val_predicted_labels_tfidf = classifier_tfidf.predict(X_val_tfidf)\n",
    "y_val_predicted_scores_tfidf = classifier_tfidf.decision_function(X_val_tfidf)"
   ]
  },
  {
   "cell_type": "markdown",
   "metadata": {},
   "source": [
    "Now take a look at how classifier, which uses TF-IDF, works for a few examples:"
   ]
  },
  {
   "cell_type": "code",
   "execution_count": 121,
   "metadata": {},
   "outputs": [
    {
     "name": "stdout",
     "output_type": "stream",
     "text": [
      "Title:\todbc_exec always fail\n",
      "True labels:\tphp,sql\n",
      "Predicted labels:\t\n",
      "\n",
      "\n",
      "Title:\taccess base classes variable within child class\n",
      "True labels:\tjavascript\n",
      "Predicted labels:\t\n",
      "\n",
      "\n",
      "Title:\tcontenttype application json required rails\n",
      "True labels:\truby,ruby-on-rails\n",
      "Predicted labels:\truby-on-rails\n",
      "\n",
      "\n"
     ]
    }
   ],
   "source": [
    "y_val_pred_inversed = mlb.inverse_transform(y_val_predicted_labels_tfidf)\n",
    "y_val_inversed = mlb.inverse_transform(y_val)\n",
    "for i in range(3):\n",
    "    print('Title:\\t{}\\nTrue labels:\\t{}\\nPredicted labels:\\t{}\\n\\n'.format(\n",
    "        X_val[i],\n",
    "        ','.join(y_val_inversed[i]),\n",
    "        ','.join(y_val_pred_inversed[i])\n",
    "    ))"
   ]
  },
  {
   "cell_type": "markdown",
   "metadata": {},
   "source": [
    "Now, we would need to compare the results of different predictions, e.g. to see whether TF-IDF transformation helps or to try different regularization techniques in logistic regression. For all these experiments, we need to setup evaluation procedure. "
   ]
  },
  {
   "cell_type": "markdown",
   "metadata": {},
   "source": [
    "### Evaluation\n",
    "\n",
    "To evaluate the results we will use several classification metrics:\n",
    " - [Accuracy](http://scikit-learn.org/stable/modules/generated/sklearn.metrics.accuracy_score.html)\n",
    " - [F1-score](http://scikit-learn.org/stable/modules/generated/sklearn.metrics.f1_score.html)\n",
    " - [Area under ROC-curve](http://scikit-learn.org/stable/modules/generated/sklearn.metrics.roc_auc_score.html)\n",
    " - [Area under precision-recall curve](http://scikit-learn.org/stable/modules/generated/sklearn.metrics.average_precision_score.html#sklearn.metrics.average_precision_score) \n",
    " \n",
    "Make sure you are familiar with all of them. How would you expect the things work for the multi-label scenario? Read about micro/macro/weighted averaging following the sklearn links provided above."
   ]
  },
  {
   "cell_type": "code",
   "execution_count": 122,
   "metadata": {},
   "outputs": [],
   "source": [
    "from sklearn.metrics import accuracy_score\n",
    "from sklearn.metrics import f1_score\n",
    "from sklearn.metrics import roc_auc_score \n",
    "from sklearn.metrics import average_precision_score\n",
    "from sklearn.metrics import recall_score"
   ]
  },
  {
   "cell_type": "markdown",
   "metadata": {},
   "source": [
    "Implement the function *print_evaluation_scores* which calculates and prints to stdout:\n",
    " - *accuracy*\n",
    " - *F1-score macro/micro/weighted*\n",
    " - *Precision macro/micro/weighted*"
   ]
  },
  {
   "cell_type": "code",
   "execution_count": 123,
   "metadata": {},
   "outputs": [],
   "source": [
    "def print_evaluation_scores(y_val, predicted):\n",
    "    print (\"Accracy={}\".format(accuracy_score(y_val, predicted)), \n",
    "        \"F1_macro={}\".format(f1_score(y_val, predicted, average='macro')),\n",
    "        \"F1_micro={}\".format(f1_score(y_val, predicted, average='micro')),\n",
    "        \"F1_wted={}\".format(f1_score(y_val, predicted, average='weighted')),\n",
    "        \"Precision_macro={}\".format(average_precision_score(y_val, predicted, average='macro')),\n",
    "        \"Precision_micro={}\".format(average_precision_score(y_val, predicted, average='micro')),\n",
    "        \"Precision_wted={}\".format(average_precision_score(y_val, predicted, average='weighted')))"
   ]
  },
  {
   "cell_type": "code",
   "execution_count": 124,
   "metadata": {},
   "outputs": [
    {
     "name": "stdout",
     "output_type": "stream",
     "text": [
      "Bag-of-words\n",
      "Accracy=0.35686666666666667 F1_macro=0.5216675363882185 F1_micro=0.6754957634307728 F1_wted=0.6581535688761303 Precision_macro=0.3443340197170583 Precision_micro=0.4777495532549426 Precision_wted=0.5109143718999026\n",
      "Tfidf\n",
      "Accracy=0.3680333333333333 F1_macro=0.5221267580238359 F1_micro=0.6829783382610269 F1_wted=0.6632493512983284 Precision_macro=0.3522128306877218 Precision_micro=0.48969732398574684 Precision_wted=0.5197953171467543\n"
     ]
    }
   ],
   "source": [
    "print('Bag-of-words')\n",
    "print_evaluation_scores(y_val, y_val_predicted_labels_mybag)\n",
    "print('Tfidf')\n",
    "print_evaluation_scores(y_val, y_val_predicted_labels_tfidf)"
   ]
  },
  {
   "cell_type": "markdown",
   "metadata": {},
   "source": [
    "You might also want to plot some generalization of the [ROC curve](http://scikit-learn.org/stable/modules/model_evaluation.html#receiver-operating-characteristic-roc) for the case of multi-label classification. Provided function *roc_auc* can make it for you. The input parameters of this function are:\n",
    " - true labels\n",
    " - decision functions scores\n",
    " - number of classes"
   ]
  },
  {
   "cell_type": "code",
   "execution_count": 108,
   "metadata": {},
   "outputs": [],
   "source": [
    "from metrics import roc_auc\n",
    "%matplotlib inline"
   ]
  },
  {
   "cell_type": "code",
   "execution_count": 109,
   "metadata": {},
   "outputs": [
    {
     "data": {
      "image/png": "[encoded data removed]",
      "text/plain": [
       "<Figure size 432x288 with 1 Axes>"
      ]
     },
     "metadata": {
      "needs_background": "light"
     },
     "output_type": "display_data"
    }
   ],
   "source": [
    "n_classes = len(tags_counts)\n",
    "roc_auc(y_val, y_val_predicted_scores_mybag, n_classes)"
   ]
  },
  {
   "cell_type": "code",
   "execution_count": 110,
   "metadata": {},
   "outputs": [
    {
     "data": {
      "image/png": "[encoded data removed]",
      "text/plain": [
       "<Figure size 432x288 with 1 Axes>"
      ]
     },
     "metadata": {
      "needs_background": "light"
     },
     "output_type": "display_data"
    }
   ],
   "source": [
    "n_classes = len(tags_counts)\n",
    "roc_auc(y_val, y_val_predicted_scores_tfidf, n_classes)"
   ]
  },
  {
   "cell_type": "markdown",
   "metadata": {},
   "source": [
    "**Task 4 (MultilabelClassification).** Once we have the evaluation set up, we suggest that you experiment a bit with training your classifiers. We will use *F1-score weighted* as an evaluation metric. Our recommendation:\n",
    "- compare the quality of the bag-of-words and TF-IDF approaches and chose one of them.\n",
    "- for the chosen one, try *L1* and *L2*-regularization techniques in Logistic Regression with different coefficients (e.g. C equal to 0.1, 1, 10, 100).\n",
    "\n",
    "You also could try other improvements of the preprocessing / model, if you want. "
   ]
  },
  {
   "cell_type": "code",
   "execution_count": 80,
   "metadata": {},
   "outputs": [],
   "source": [
    "######################################\n",
    "######### YOUR CODE HERE #############\n",
    "######################################"
   ]
  },
  {
   "cell_type": "markdown",
   "metadata": {},
   "source": [
    "When you are happy with the quality, create predictions for *test* set, which you will submit to Coursera."
   ]
  },
  {
   "cell_type": "code",
   "execution_count": 81,
   "metadata": {},
   "outputs": [
    {
     "name": "stdout",
     "output_type": "stream",
     "text": [
      "Current answer for task MultilabelClassification is:\n",
      " 0\tphp\n",
      "1\tjavascript,jquery\n",
      "2\t\n",
      "3\tjavascript,jquery\n",
      "4\tandroid,java\n",
      "5\tphp,xml\n",
      "6\tjson\n",
      "7\tjava\n",
      "8\tpython\n",
      "9\th...\n"
     ]
    }
   ],
   "source": [
    "#y_val_predicted_labels_tfidf = classifier_tfidf.predict(X_val_tfidf)\n",
    "#y_val_predicted_scores_tfidf = classifier_tfidf.decision_function(X_val_tfidf)\n",
    "test_predictions = classifier_tfidf.predict(X_test_tfidf)\n",
    "test_pred_inversed = mlb.inverse_transform(test_predictions)\n",
    "\n",
    "test_predictions_for_submission = '\\n'.join('%i\\t%s' % (i, ','.join(row)) for i, row in enumerate(test_pred_inversed))\n",
    "grader.submit_tag('MultilabelClassification', test_predictions_for_submission)"
   ]
  },
  {
   "cell_type": "markdown",
   "metadata": {},
   "source": [
    "### Analysis of the most important features"
   ]
  },
  {
   "cell_type": "markdown",
   "metadata": {},
   "source": [
    "Finally, it is usually a good idea to look at the features (words or n-grams) that are used with the largest weigths in your logistic regression model."
   ]
  },
  {
   "cell_type": "markdown",
   "metadata": {},
   "source": [
    "Implement the function *print_words_for_tag* to find them. Get back to sklearn documentation on [OneVsRestClassifier](http://scikit-learn.org/stable/modules/generated/sklearn.multiclass.OneVsRestClassifier.html) and [LogisticRegression](http://scikit-learn.org/stable/modules/generated/sklearn.linear_model.LogisticRegression.html) if needed."
   ]
  },
  {
   "cell_type": "code",
   "execution_count": 82,
   "metadata": {},
   "outputs": [],
   "source": [
    "def print_words_for_tag(classifier, tag, tags_classes, index_to_words, all_words):\n",
    "    \"\"\"\n",
    "        classifier: trained classifier\n",
    "        tag: particular tag\n",
    "        tags_classes: a list of classes names from MultiLabelBinarizer\n",
    "        index_to_words: index_to_words transformation\n",
    "        all_words: all words in the dictionary\n",
    "        \n",
    "        return nothing, just print top 5 positive and top 5 negative words for current tag\n",
    "    \"\"\"\n",
    "    print('Tag:\\t{}'.format(tag))\n",
    "    \n",
    "    # Extract an estimator from the classifier for the given tag.\n",
    "    # Extract feature coefficients from the estimator. \n",
    "    estimator = classifier.estimators_[tags_classes.index(tag)]\n",
    "    coff = estimator.coef_[0]\n",
    "    coff_idx = list(enumerate(coff))\n",
    "    top_pos_words_idx = [idx for idx, wt in sorted(coff_idx, key=lambda x: x[1], reverse=True)[:5]]\n",
    "    top_neg_words_idx = [idx for idx, wt in sorted(coff_idx, key=lambda x: x[1], reverse=False)[:5]]\n",
    "    top_positive_words = [index_to_words[idx] for idx in top_pos_words_idx] # top-5 words sorted by the coefficiens.\n",
    "    top_negative_words = [index_to_words[idx] for idx in top_neg_words_idx] # bottom-5 words  sorted by the coefficients.\n",
    "    print('Top positive words:\\t{}'.format(', '.join(top_positive_words)))\n",
    "    print('Top negative words:\\t{}\\n'.format(', '.join(top_negative_words)))"
   ]
  },
  {
   "cell_type": "code",
   "execution_count": 83,
   "metadata": {},
   "outputs": [
    {
     "name": "stdout",
     "output_type": "stream",
     "text": [
      "Tag:\tc\n",
      "Top positive words:\tc, malloc, scanf, printf, gcc\n",
      "Top negative words:\tjava, php, python, javascript, c#\n",
      "\n",
      "Tag:\tc++\n",
      "Top positive words:\tc++, qt, boost, mfc, opencv\n",
      "Top negative words:\tjava, php, python, javascript, c#\n",
      "\n",
      "Tag:\tlinux\n",
      "Top positive words:\tlinux, ubuntu, c, address, signal\n",
      "Top negative words:\tjavascript, c#, jquery, array, method\n",
      "\n"
     ]
    }
   ],
   "source": [
    "print_words_for_tag(classifier_tfidf, 'c', mlb.classes, tfidf_reversed_vocab, ALL_WORDS)\n",
    "print_words_for_tag(classifier_tfidf, 'c++', mlb.classes, tfidf_reversed_vocab, ALL_WORDS)\n",
    "print_words_for_tag(classifier_tfidf, 'linux', mlb.classes, tfidf_reversed_vocab, ALL_WORDS)"
   ]
  },
  {
   "cell_type": "markdown",
   "metadata": {},
   "source": [
    "### Authorization & Submission\n",
    "To submit assignment parts to Cousera platform, please, enter your e-mail and token into variables below. You can generate token on this programming assignment page. <b>Note:</b> Token expires 30 minutes after generation."
   ]
  },
  {
   "cell_type": "code",
   "execution_count": 84,
   "metadata": {},
   "outputs": [
    {
     "name": "stdout",
     "output_type": "stream",
     "text": [
      "You want to submit these parts:\n",
      "Task TextPrepare:\n",
      " sqlite php readonly\n",
      "creating multiple textboxes dynamically\n",
      "self one prefer javascript\n",
      "save php date...\n",
      "Task WordsTagsCount:\n",
      " javascript,c#,java\n",
      "using,php,java...\n",
      "Task BagOfWords:\n",
      " 7...\n",
      "Task MultilabelClassification:\n",
      " 0\tphp\n",
      "1\tjavascript,jquery\n",
      "2\t\n",
      "3\tjavascript,jquery\n",
      "4\tandroid,java\n",
      "5\tphp,xml\n",
      "6\tjson\n",
      "7\tjava\n",
      "8\tpython\n",
      "9\th...\n"
     ]
    }
   ],
   "source": [
    "grader.status()"
   ]
  },
  {
   "cell_type": "code",
   "execution_count": 85,
   "metadata": {},
   "outputs": [
    {
     "name": "stdout",
     "output_type": "stream",
     "text": [
      "You want to submit these parts:\n",
      "Task TextPrepare:\n",
      " sqlite php readonly\n",
      "creating multiple textboxes dynamically\n",
      "self one prefer javascript\n",
      "save php date...\n",
      "Task WordsTagsCount:\n",
      " javascript,c#,java\n",
      "using,php,java...\n",
      "Task BagOfWords:\n",
      " 7...\n",
      "Task MultilabelClassification:\n",
      " 0\tphp\n",
      "1\tjavascript,jquery\n",
      "2\t\n",
      "3\tjavascript,jquery\n",
      "4\tandroid,java\n",
      "5\tphp,xml\n",
      "6\tjson\n",
      "7\tjava\n",
      "8\tpython\n",
      "9\th...\n"
     ]
    }
   ],
   "source": [
    "STUDENT_EMAIL = \"sugam110795@gmail.com\"\n",
    "STUDENT_TOKEN = \"B5q76D5EfCOWuPn4\"\n",
    "grader.status()"
   ]
  },
  {
   "cell_type": "markdown",
   "metadata": {},
   "source": [
    "If you want to submit these answers, run cell below"
   ]
  },
  {
   "cell_type": "code",
   "execution_count": 86,
   "metadata": {},
   "outputs": [
    {
     "name": "stdout",
     "output_type": "stream",
     "text": [
      "Submitted to Coursera platform. See results on assignment page!\n"
     ]
    }
   ],
   "source": [
    "grader.submit(STUDENT_EMAIL, STUDENT_TOKEN)"
   ]
  },
  {
   "cell_type": "code",
   "execution_count": null,
   "metadata": {},
   "outputs": [],
   "source": []
  }
 ],
 "metadata": {
  "kernelspec": {
   "display_name": "Python 3",
   "language": "python",
   "name": "python3"
  },
  "language_info": {
   "codemirror_mode": {
    "name": "ipython",
    "version": 3
   },
   "file_extension": ".py",
   "mimetype": "text/x-python",
   "name": "python",
   "nbconvert_exporter": "python",
   "pygments_lexer": "ipython3",
   "version": "3.7.2"
  }
 },
 "nbformat": 4,
 "nbformat_minor": 2
}
